{
 "cells": [
  {
   "cell_type": "code",
   "execution_count": 29,
   "metadata": {
    "vscode": {
     "languageId": "shellscript"
    }
   },
   "outputs": [
    {
     "name": "stdout",
     "output_type": "stream",
     "text": [
      "Requirement already satisfied: bash_kernel in /Users/debangana/anaconda3/lib/python3.11/site-packages (0.10.0)\n",
      "Requirement already satisfied: pexpect>=4.0 in /Users/debangana/anaconda3/lib/python3.11/site-packages (from bash_kernel) (4.8.0)\n",
      "Requirement already satisfied: ipykernel in /Users/debangana/anaconda3/lib/python3.11/site-packages (from bash_kernel) (6.25.0)\n",
      "Requirement already satisfied: filetype in /Users/debangana/anaconda3/lib/python3.11/site-packages (from bash_kernel) (1.2.0)\n",
      "Requirement already satisfied: ptyprocess>=0.5 in /Users/debangana/anaconda3/lib/python3.11/site-packages (from pexpect>=4.0->bash_kernel) (0.7.0)\n",
      "Requirement already satisfied: appnope in /Users/debangana/anaconda3/lib/python3.11/site-packages (from ipykernel->bash_kernel) (0.1.2)\n",
      "Requirement already satisfied: comm>=0.1.1 in /Users/debangana/anaconda3/lib/python3.11/site-packages (from ipykernel->bash_kernel) (0.1.2)\n",
      "Requirement already satisfied: debugpy>=1.6.5 in /Users/debangana/anaconda3/lib/python3.11/site-packages (from ipykernel->bash_kernel) (1.6.7)\n",
      "Requirement already satisfied: ipython>=7.23.1 in /Users/debangana/anaconda3/lib/python3.11/site-packages (from ipykernel->bash_kernel) (8.15.0)\n",
      "Requirement already satisfied: jupyter-client>=6.1.12 in /Users/debangana/anaconda3/lib/python3.11/site-packages (from ipykernel->bash_kernel) (7.4.9)\n",
      "Requirement already satisfied: jupyter-core!=5.0.*,>=4.12 in /Users/debangana/anaconda3/lib/python3.11/site-packages (from ipykernel->bash_kernel) (5.3.0)\n",
      "Requirement already satisfied: matplotlib-inline>=0.1 in /Users/debangana/anaconda3/lib/python3.11/site-packages (from ipykernel->bash_kernel) (0.1.6)\n",
      "Requirement already satisfied: nest-asyncio in /Users/debangana/anaconda3/lib/python3.11/site-packages (from ipykernel->bash_kernel) (1.5.6)\n",
      "Requirement already satisfied: packaging in /Users/debangana/anaconda3/lib/python3.11/site-packages (from ipykernel->bash_kernel) (23.1)\n",
      "Requirement already satisfied: psutil in /Users/debangana/anaconda3/lib/python3.11/site-packages (from ipykernel->bash_kernel) (5.9.0)\n",
      "Requirement already satisfied: pyzmq>=20 in /Users/debangana/anaconda3/lib/python3.11/site-packages (from ipykernel->bash_kernel) (23.2.0)\n",
      "Requirement already satisfied: tornado>=6.1 in /Users/debangana/anaconda3/lib/python3.11/site-packages (from ipykernel->bash_kernel) (6.3.2)\n",
      "Requirement already satisfied: traitlets>=5.4.0 in /Users/debangana/anaconda3/lib/python3.11/site-packages (from ipykernel->bash_kernel) (5.7.1)\n",
      "Requirement already satisfied: backcall in /Users/debangana/anaconda3/lib/python3.11/site-packages (from ipython>=7.23.1->ipykernel->bash_kernel) (0.2.0)\n",
      "Requirement already satisfied: decorator in /Users/debangana/anaconda3/lib/python3.11/site-packages (from ipython>=7.23.1->ipykernel->bash_kernel) (5.1.1)\n",
      "Requirement already satisfied: jedi>=0.16 in /Users/debangana/anaconda3/lib/python3.11/site-packages (from ipython>=7.23.1->ipykernel->bash_kernel) (0.18.1)\n",
      "Requirement already satisfied: pickleshare in /Users/debangana/anaconda3/lib/python3.11/site-packages (from ipython>=7.23.1->ipykernel->bash_kernel) (0.7.5)\n",
      "Requirement already satisfied: prompt-toolkit!=3.0.37,<3.1.0,>=3.0.30 in /Users/debangana/anaconda3/lib/python3.11/site-packages (from ipython>=7.23.1->ipykernel->bash_kernel) (3.0.36)\n",
      "Requirement already satisfied: pygments>=2.4.0 in /Users/debangana/anaconda3/lib/python3.11/site-packages (from ipython>=7.23.1->ipykernel->bash_kernel) (2.15.1)\n",
      "Requirement already satisfied: stack-data in /Users/debangana/anaconda3/lib/python3.11/site-packages (from ipython>=7.23.1->ipykernel->bash_kernel) (0.2.0)\n",
      "Requirement already satisfied: entrypoints in /Users/debangana/anaconda3/lib/python3.11/site-packages (from jupyter-client>=6.1.12->ipykernel->bash_kernel) (0.4)\n",
      "Requirement already satisfied: python-dateutil>=2.8.2 in /Users/debangana/anaconda3/lib/python3.11/site-packages (from jupyter-client>=6.1.12->ipykernel->bash_kernel) (2.8.2)\n",
      "Requirement already satisfied: platformdirs>=2.5 in /Users/debangana/anaconda3/lib/python3.11/site-packages (from jupyter-core!=5.0.*,>=4.12->ipykernel->bash_kernel) (3.10.0)\n",
      "Requirement already satisfied: parso<0.9.0,>=0.8.0 in /Users/debangana/anaconda3/lib/python3.11/site-packages (from jedi>=0.16->ipython>=7.23.1->ipykernel->bash_kernel) (0.8.3)\n",
      "Requirement already satisfied: wcwidth in /Users/debangana/anaconda3/lib/python3.11/site-packages (from prompt-toolkit!=3.0.37,<3.1.0,>=3.0.30->ipython>=7.23.1->ipykernel->bash_kernel) (0.2.5)\n",
      "Requirement already satisfied: six>=1.5 in /Users/debangana/anaconda3/lib/python3.11/site-packages (from python-dateutil>=2.8.2->jupyter-client>=6.1.12->ipykernel->bash_kernel) (1.16.0)\n",
      "Requirement already satisfied: executing in /Users/debangana/anaconda3/lib/python3.11/site-packages (from stack-data->ipython>=7.23.1->ipykernel->bash_kernel) (0.8.3)\n",
      "Requirement already satisfied: asttokens in /Users/debangana/anaconda3/lib/python3.11/site-packages (from stack-data->ipython>=7.23.1->ipykernel->bash_kernel) (2.0.5)\n",
      "Requirement already satisfied: pure-eval in /Users/debangana/anaconda3/lib/python3.11/site-packages (from stack-data->ipython>=7.23.1->ipykernel->bash_kernel) (0.2.2)\n"
     ]
    }
   ],
   "source": [
    "pip install bash_kernel"
   ]
  },
  {
   "cell_type": "markdown",
   "metadata": {},
   "source": [
    "This notebook contains the basics of navigating through the linux file system, creating files and managing permisiions and ownerships"
   ]
  },
  {
   "cell_type": "code",
   "execution_count": 55,
   "metadata": {
    "vscode": {
     "languageId": "shellscript"
    }
   },
   "outputs": [
    {
     "name": "stdout",
     "output_type": "stream",
     "text": [
      "/Users/debangana/Desktop\n"
     ]
    }
   ],
   "source": [
    "pwd # returns the current working directory\n",
    "cd ~ #change to home directory\n",
    "cd /Users/debangana/ #change to the mentioned directory\n",
    "mkdir -p linux_basics # mkdir with the -p parameter ensures no error is stated even when folder exists"
   ]
  },
  {
   "cell_type": "markdown",
   "metadata": {},
   "source": [
    "Let us create some folders and files under the folder linux basics folder"
   ]
  },
  {
   "cell_type": "markdown",
   "metadata": {},
   "source": []
  },
  {
   "cell_type": "code",
   "execution_count": 56,
   "metadata": {
    "vscode": {
     "languageId": "shellscript"
    }
   },
   "outputs": [
    {
     "name": "stdout",
     "output_type": "stream",
     "text": [
      "DMP.csv\t\t\t\tstudent_data.txt\n",
      "GSE111629Annotation1.csv\n"
     ]
    }
   ],
   "source": [
    "mkdir -p linux_basics/tutorials # creates a new folder under linux_basics\n",
    "touch linux_basics/tutorials/student_data.txt #create a new file under the specified directory\n",
    "ls ~/Desktop/linux_basics/tutorials #list all files in the directory\n",
    "\n"
   ]
  },
  {
   "cell_type": "code",
   "execution_count": 57,
   "metadata": {
    "vscode": {
     "languageId": "shellscript"
    }
   },
   "outputs": [
    {
     "name": "stdout",
     "output_type": "stream",
     "text": [
      "total 0\n",
      "drwxr-xr-x@ 3 debangana  staff  96 Jun 15 14:57 .\n",
      "drwxr-xr-x@ 3 debangana  staff  96 Jun 15 14:57 ..\n",
      "-rw-r--r--@ 1 debangana  staff   0 Jun 15 14:57 student_data.txt\n"
     ]
    }
   ],
   "source": [
    "ls -la ~/linux_basics/tutorials #list all files with owners including hidden files in a directory "
   ]
  },
  {
   "cell_type": "code",
   "execution_count": 58,
   "metadata": {
    "vscode": {
     "languageId": "shellscript"
    }
   },
   "outputs": [
    {
     "name": "stdout",
     "output_type": "stream",
     "text": [
      "total 16\n",
      "drwxr-xr-x@ 4 debangana  staff   128 Jun 15 14:58 .\n",
      "drwxr-xr-x@ 3 debangana  staff    96 Jun 15 14:57 ..\n",
      "-rw-r--r--@ 1 debangana  staff  5237 Jun 15 14:58 DMP.csv\n",
      "-rw-r--r--@ 1 debangana  staff     0 Jun 15 14:57 student_data.txt\n"
     ]
    }
   ],
   "source": [
    "cp ~/Desktop/Thesis/Parkinson/annotation/DMP.csv ~/linux_basics/tutorials #copy the csv file from annotation folder to the tutorials folder\n",
    "ls -la ~/linux_basics/tutorials #list the contents"
   ]
  },
  {
   "cell_type": "code",
   "execution_count": 62,
   "metadata": {
    "vscode": {
     "languageId": "shellscript"
    }
   },
   "outputs": [
    {
     "name": "stdout",
     "output_type": "stream",
     "text": [
      "total 184\n",
      "drwxr-xr-x@ 5 debangana  staff    160 Jun 15 14:59 .\n",
      "drwxr-xr-x@ 3 debangana  staff     96 Jun 15 14:57 ..\n",
      "-rw-r--r--@ 1 debangana  staff   5237 Jun 15 14:58 DMP.csv\n",
      "-rw-r--r--@ 1 debangana  staff  83120 Jun 15 14:59 GSE111629Annotation1.csv\n",
      "-rw-r--r--@ 1 debangana  staff      0 Jun 15 14:57 student_data.txt\n"
     ]
    }
   ],
   "source": [
    "cp ~/Desktop/Thesis/Parkinson/annotation/GSE111629Annotation.csv ~/linux_basics/tutorials\n",
    "mv ~/linux_basics/tutorials/GSE111629Annotation.csv  ~/linux_basics/tutorials/GSE111629Annotation1.csv #renaming the file\n",
    "ls -la ~/linux_basics/tutorials/\n"
   ]
  },
  {
   "cell_type": "markdown",
   "metadata": {},
   "source": [
    "Now that we have three files under the tutorials directory, let us understand the fundamentals of permissions and access in linux"
   ]
  },
  {
   "cell_type": "code",
   "execution_count": 65,
   "metadata": {
    "vscode": {
     "languageId": "shellscript"
    }
   },
   "outputs": [
    {
     "name": "stdout",
     "output_type": "stream",
     "text": [
      "Password:\n",
      "sudo: a password is required\n"
     ]
    }
   ],
   "source": [
    "sudo useradd tutor #for macOS use the command sudo sysadminctl -addUser <username> -password <password>\n",
    "sudo passwd tutor"
   ]
  },
  {
   "cell_type": "code",
   "execution_count": 79,
   "metadata": {
    "vscode": {
     "languageId": "shellscript"
    }
   },
   "outputs": [
    {
     "name": "stdout",
     "output_type": "stream",
     "text": [
      "_accessoryupdater\n",
      "_amavisd\n",
      "_analyticsd\n",
      "_aonsensed\n",
      "_appinstalld\n",
      "_appleevents\n",
      "_applepay\n",
      "_appowner\n",
      "_appserver\n",
      "_appstore\n",
      "_ard\n",
      "_assetcache\n",
      "_astris\n",
      "_atsserver\n",
      "_audiomxd\n",
      "_avbdeviced\n",
      "_avphidbridge\n",
      "_backgroundassets\n",
      "_biome\n",
      "_calendar\n",
      "_captiveagent\n",
      "_ces\n",
      "_clamav\n",
      "_cmiodalassistants\n",
      "_coreaudiod\n",
      "_coremediaiod\n",
      "_coreml\n",
      "_corespeechd\n",
      "_ctkd\n",
      "_cvmsroot\n",
      "_cvs\n",
      "_cyrus\n",
      "_darwindaemon\n",
      "_datadetectors\n",
      "_demod\n",
      "_devdocs\n",
      "_devicemgr\n",
      "_diagnosticservicesd\n",
      "_diskimagesiod\n",
      "_displaypolicyd\n",
      "_distnote\n",
      "_dovecot\n",
      "_dovenull\n",
      "_dpaudio\n",
      "_driverkit\n",
      "_eligibilityd\n",
      "_eppc\n",
      "_findmydevice\n",
      "_fpsd\n",
      "_ftp\n",
      "_gamecontrollerd\n",
      "_geod\n",
      "_hidd\n",
      "_iconservices\n",
      "_installassistant\n",
      "_installcoordinationd\n",
      "_installer\n",
      "_jabber\n",
      "_kadmin_admin\n",
      "_kadmin_changepw\n",
      "_knowledgegraphd\n",
      "_krb_anonymous\n",
      "_krb_changepw\n",
      "_krb_kadmin\n",
      "_krb_kerberos\n",
      "_krb_krbtgt\n",
      "_krbfast\n",
      "_krbtgt\n",
      "_launchservicesd\n",
      "_lda\n",
      "_locationd\n",
      "_logd\n",
      "_lp\n",
      "_mailman\n",
      "_mbsetupuser\n",
      "_mcxalr\n",
      "_mdnsresponder\n",
      "_mmaintenanced\n",
      "_mobileasset\n",
      "_mobilegestalthelper\n",
      "_modelmanagerd\n",
      "_mysql\n",
      "_naturallanguaged\n",
      "_nearbyd\n",
      "_netbios\n",
      "_netstatistics\n",
      "_networkd\n",
      "_neuralengine\n",
      "_notification_proxy\n",
      "_nsurlsessiond\n",
      "_oahd\n",
      "_ondemand\n",
      "_postfix\n",
      "_postgres\n",
      "_qtss\n",
      "_reportmemoryexception\n",
      "_reportsystemmemory\n",
      "_rmd\n",
      "_sandbox\n",
      "_screensaver\n",
      "_scsd\n",
      "_securityagent\n",
      "_sntpd\n",
      "_softwareupdate\n",
      "_spotlight\n",
      "_sshd\n",
      "_svn\n",
      "_swtransparencyd\n",
      "_systemstatusd\n",
      "_taskgated\n",
      "_teamsserver\n",
      "_terminusd\n",
      "_timed\n",
      "_timezone\n",
      "_tokend\n",
      "_trustd\n",
      "_trustevaluationagent\n",
      "_unknown\n",
      "_update_sharing\n",
      "_usbmuxd\n",
      "_uucp\n",
      "_warmd\n",
      "_webauthserver\n",
      "_windowserver\n",
      "_www\n",
      "_wwwproxy\n",
      "_xserverdocs\n",
      "daemon\n",
      "debangana\n",
      "nobody\n",
      "root\n",
      "tutor\n",
      "uid=501(debangana) gid=20(staff) groups=20(staff),12(everyone),61(localaccounts),79(_appserverusr),80(admin),81(_appserveradm),98(_lpadmin),702(com.apple.sharepoint.group.2),33(_appstore),100(_lpoperator),204(_developer),250(_analyticsusers),395(com.apple.access_ftp),398(com.apple.access_screensharing),399(com.apple.access_ssh),400(com.apple.access_remote_ae),701(com.apple.sharepoint.group.1)\n",
      "uid=502(tutor) gid=20(staff) groups=20(staff),12(everyone),61(localaccounts),702(com.apple.sharepoint.group.2),100(_lpoperator),701(com.apple.sharepoint.group.1)\n"
     ]
    }
   ],
   "source": [
    "dscl . list /Users #to list the users\n",
    "id   #displays the user ID, Group ID and Group memberships\n",
    "id tutor\n"
   ]
  },
  {
   "cell_type": "markdown",
   "metadata": {},
   "source": [
    "Let us locate the file `GSE111629Annotation1.csv` on the disk"
   ]
  },
  {
   "cell_type": "code",
   "execution_count": 101,
   "metadata": {
    "vscode": {
     "languageId": "shellscript"
    }
   },
   "outputs": [
    {
     "name": "stdout",
     "output_type": "stream",
     "text": [
      "/Users/debangana/linux_basics/tutorials/GSE111629Annotation1.csv\n",
      "/Users/debangana/linux_basics/tutorials/GSE111629Annotation1.csv\n",
      "/Users/debangana/linux_basics/tutorials/GSE111629Annotation1.csv\n"
     ]
    }
   ],
   "source": [
    "find ~/linux_basics -name 'GSE111629Annotation1.csv' #locates files by their names\n",
    "find ~/linux_basics -iname 'gse111629Annotation1.csv' #locates files and ignores the case\n",
    "find ~/linux_basics -iname '*gse111629Anno*' #can be useful if the full name is not known "
   ]
  },
  {
   "cell_type": "markdown",
   "metadata": {},
   "source": [
    "Now let us create a simple .sh file and understand the concepts of ownership and permissions "
   ]
  },
  {
   "cell_type": "code",
   "execution_count": 110,
   "metadata": {
    "vscode": {
     "languageId": "shellscript"
    }
   },
   "outputs": [
    {
     "name": "stdout",
     "output_type": "stream",
     "text": [
      "total 192\n",
      "-rw-r--r--@ 1 debangana  staff   5237 Jun 15 14:58 DMP.csv\n",
      "-rw-r--r--@ 1 debangana  staff  83120 Jun 15 14:59 GSE111629Annotation1.csv\n",
      "-rw-r--r--  1 debangana  staff    416 Jun 15 18:24 calculator.sh\n",
      "-rw-r--r--@ 1 debangana  staff      0 Jun 15 14:57 student_data.txt\n",
      "debangana\n"
     ]
    }
   ],
   "source": [
    "ls -l /Users/debangana/linux_basics/tutorials #fetch the details of the directory,list the owners and permissions of files\n",
    "whoami #to check the current user"
   ]
  },
  {
   "cell_type": "markdown",
   "metadata": {},
   "source": [
    "Now let us execute the script calculator.sh"
   ]
  },
  {
   "cell_type": "code",
   "execution_count": 112,
   "metadata": {
    "vscode": {
     "languageId": "shellscript"
    }
   },
   "outputs": [
    {
     "name": "stdout",
     "output_type": "stream",
     "text": [
      "bash: ./calculator.sh: Permission denied\n"
     ]
    },
    {
     "ename": "",
     "evalue": "126",
     "output_type": "error",
     "traceback": []
    }
   ],
   "source": [
    "cd /Users/debangana/linux_basics/tutorials\n",
    "./calculator.sh"
   ]
  },
  {
   "cell_type": "markdown",
   "metadata": {},
   "source": [
    "The current user is `debangana`, the file belongs to `debangana`, however `debangana` does not have the right to execute the bash script. Let us understand this in detail:\n",
    "\n",
    "What does the `'-rw-r--r--'` mean?\n",
    "`-`: means that it is a rregular file.\n",
    "`r`: View(read) the file’s contents or list a directory’s files.\n",
    "`w`: Write to a file or add/delete files in a directory.\n",
    "`x`: execute a file as a program/script \n",
    "\n",
    "The first set `rw-` means the owner (debangana) can read and write the file, but not execute it.\n",
    "The second set `r--` means the group (staff) can only read the file.\n",
    "The third set `r--` means others (everyone else) can only read the file.\n",
    "\n",
    "So, we have to change the file permission.\n"
   ]
  },
  {
   "cell_type": "code",
   "execution_count": 143,
   "metadata": {
    "vscode": {
     "languageId": "shellscript"
    }
   },
   "outputs": [
    {
     "name": "stdout",
     "output_type": "stream",
     "text": [
      "Addition: 2 + 3 = 5\n",
      "Subtraction: 2 - 3 = -1\n",
      "Multiplication: 2 * 3 = 6\n",
      "Division: 2/3 = 0.66\n",
      "total 192\n",
      "-rw-r--r--@ 1 debangana  staff   5237 Jun 15 14:58 DMP.csv\n",
      "-rw-r--r--@ 1 debangana  staff  83120 Jun 15 14:59 GSE111629Annotation1.csv\n",
      "-rwxrwxr-x@ 1 debangana  staff    147 Jun 15 18:37 calculator.sh\n",
      "-rw-r--r--@ 1 debangana  staff      0 Jun 15 14:57 student_data.txt\n",
      "total 192\n",
      "-rw-r--r--@ 1 debangana  staff   5237 Jun 15 14:58 DMP.csv\n",
      "-rw-r--r--@ 1 debangana  staff  83120 Jun 15 14:59 GSE111629Annotation1.csv\n",
      "-rwxrw-r--@ 1 debangana  staff    147 Jun 15 18:37 calculator.sh\n",
      "-rw-r--r--@ 1 debangana  staff      0 Jun 15 14:57 student_data.txt\n",
      "total 192\n",
      "-rw-r--r--@ 1 debangana  staff   5237 Jun 15 14:58 DMP.csv\n",
      "-rw-r--r--@ 1 debangana  staff  83120 Jun 15 14:59 GSE111629Annotation1.csv\n",
      "-rwxrwxr--@ 1 debangana  staff    147 Jun 15 18:37 calculator.sh\n",
      "-rw-r--r--@ 1 debangana  staff      0 Jun 15 14:57 student_data.txt\n"
     ]
    }
   ],
   "source": [
    "chmod +x ./calculator.sh\n",
    "./calculator.sh #file executed by user debangana\n",
    "\n",
    "chmod a+x calculator.sh #grants execution rights to all others \n",
    "ls -l #list the file with modified permisiions (permission of execution has been granted)\n",
    "\n",
    "#But then we realise that others should not be granted the right to execute the file\n",
    "\n",
    "chmod go-x calculator.sh #withdraw execution rights from others except the owner\n",
    "ls -l\n",
    "\n",
    "chmod u=rwx,g=rwx,o=r calculator.sh\n",
    "ls -l #right to write granted"
   ]
  },
  {
   "cell_type": "markdown",
   "metadata": {},
   "source": [
    "| Permission    | Value |\n",
    "| ------------- | ----- |\n",
    "| Read (`r`)    | 4     |\n",
    "| Write (`w`)   | 2     |\n",
    "| Execute (`x`) | 1     |\n"
   ]
  },
  {
   "cell_type": "markdown",
   "metadata": {},
   "source": [
    "| Entity | Value     | Permissions |\n",
    "| ------ | --------- | ----------- |\n",
    "| Owner  | 7 = 4+2+1 | `rwx`       |\n",
    "| Group  | 7 = 4+2+1 | `rwx`       |\n",
    "| Others | 1 =   1   | `--x`       |"
   ]
  },
  {
   "cell_type": "code",
   "execution_count": 145,
   "metadata": {
    "vscode": {
     "languageId": "shellscript"
    }
   },
   "outputs": [
    {
     "name": "stdout",
     "output_type": "stream",
     "text": [
      "total 192\n",
      "-rw-r--r--@ 1 debangana  staff   5237 Jun 15 14:58 DMP.csv\n",
      "-rw-r--r--@ 1 debangana  staff  83120 Jun 15 14:59 GSE111629Annotation1.csv\n",
      "-rwxrwxr--@ 1 debangana  staff    147 Jun 15 18:37 calculator.sh\n",
      "-rw-r--r--@ 1 debangana  staff      0 Jun 15 14:57 student_data.txt\n"
     ]
    }
   ],
   "source": [
    "chmod 774 calculator.sh\n",
    "ls -l "
   ]
  },
  {
   "cell_type": "code",
   "execution_count": 147,
   "metadata": {
    "vscode": {
     "languageId": "shellscript"
    }
   },
   "outputs": [
    {
     "name": "stdout",
     "output_type": "stream",
     "text": [
      "total 192\n",
      "-rw-r--r--@ 1 debangana  staff   5237 Jun 15 14:58 DMP.csv\n",
      "-rw-r--r--@ 1 debangana  staff  83120 Jun 15 14:59 GSE111629Annotation1.csv\n",
      "-rwxrwxrw-@ 1 debangana  staff    147 Jun 15 18:37 calculator.sh\n",
      "-rw-r--r--@ 1 debangana  staff      0 Jun 15 14:57 student_data.txt\n"
     ]
    }
   ],
   "source": [
    "chmod 776 calculator.sh\n",
    "ls -l"
   ]
  }
 ],
 "metadata": {
  "kernelspec": {
   "display_name": "Bash",
   "language": "bash",
   "name": "bash"
  },
  "language_info": {
   "codemirror_mode": "shell",
   "file_extension": ".sh",
   "mimetype": "text/x-sh",
   "name": "bash"
  }
 },
 "nbformat": 4,
 "nbformat_minor": 2
}
