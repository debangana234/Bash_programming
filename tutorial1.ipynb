{
 "cells": [
  {
   "cell_type": "markdown",
   "metadata": {},
   "source": [
    "This notebook contains the basics of navigating through the linux file system, creating files and managing permisions and ownerships"
   ]
  },
  {
   "cell_type": "code",
   "execution_count": 55,
   "metadata": {
    "vscode": {
     "languageId": "shellscript"
    }
   },
   "outputs": [
    {
     "name": "stdout",
     "output_type": "stream",
     "text": [
      "/Users/debangana/Desktop\n"
     ]
    }
   ],
   "source": [
    "pwd # returns the current working directory\n",
    "cd ~ #change to home directory\n",
    "cd /Users/debangana/ #change to the mentioned directory\n",
    "mkdir -p linux_basics # mkdir with the -p parameter ensures no error is stated even when folder exists"
   ]
  },
  {
   "cell_type": "markdown",
   "metadata": {},
   "source": [
    "Let us create some folders and files under the folder linux basics folder"
   ]
  },
  {
   "cell_type": "markdown",
   "metadata": {},
   "source": []
  },
  {
   "cell_type": "code",
   "execution_count": 56,
   "metadata": {
    "vscode": {
     "languageId": "shellscript"
    }
   },
   "outputs": [
    {
     "name": "stdout",
     "output_type": "stream",
     "text": [
      "DMP.csv\t\t\t\tstudent_data.txt\n",
      "GSE111629Annotation1.csv\n"
     ]
    }
   ],
   "source": [
    "mkdir -p linux_basics/tutorials # creates a new folder under linux_basics\n",
    "touch linux_basics/tutorials/student_data.txt #create a new file under the specified directory\n",
    "ls ~/Desktop/linux_basics/tutorials #list all files in the directory\n",
    "\n"
   ]
  },
  {
   "cell_type": "code",
   "execution_count": 57,
   "metadata": {
    "vscode": {
     "languageId": "shellscript"
    }
   },
   "outputs": [
    {
     "name": "stdout",
     "output_type": "stream",
     "text": [
      "total 0\n",
      "drwxr-xr-x@ 3 debangana  staff  96 Jun 15 14:57 .\n",
      "drwxr-xr-x@ 3 debangana  staff  96 Jun 15 14:57 ..\n",
      "-rw-r--r--@ 1 debangana  staff   0 Jun 15 14:57 student_data.txt\n"
     ]
    }
   ],
   "source": [
    "ls -la ~/linux_basics/tutorials #list all files with owners including hidden files (files starting with dots) in a directory "
   ]
  },
  {
   "cell_type": "code",
   "execution_count": 58,
   "metadata": {
    "vscode": {
     "languageId": "shellscript"
    }
   },
   "outputs": [
    {
     "name": "stdout",
     "output_type": "stream",
     "text": [
      "total 16\n",
      "drwxr-xr-x@ 4 debangana  staff   128 Jun 15 14:58 .\n",
      "drwxr-xr-x@ 3 debangana  staff    96 Jun 15 14:57 ..\n",
      "-rw-r--r--@ 1 debangana  staff  5237 Jun 15 14:58 DMP.csv\n",
      "-rw-r--r--@ 1 debangana  staff     0 Jun 15 14:57 student_data.txt\n"
     ]
    }
   ],
   "source": [
    "cp ~/Desktop/Thesis/Parkinson/annotation/DMP.csv ~/linux_basics/tutorials #copy the csv file from annotation folder to the tutorials folder\n",
    "ls -la ~/linux_basics/tutorials #list the contents"
   ]
  },
  {
   "cell_type": "code",
   "execution_count": 62,
   "metadata": {
    "vscode": {
     "languageId": "shellscript"
    }
   },
   "outputs": [
    {
     "name": "stdout",
     "output_type": "stream",
     "text": [
      "total 184\n",
      "drwxr-xr-x@ 5 debangana  staff    160 Jun 15 14:59 .\n",
      "drwxr-xr-x@ 3 debangana  staff     96 Jun 15 14:57 ..\n",
      "-rw-r--r--@ 1 debangana  staff   5237 Jun 15 14:58 DMP.csv\n",
      "-rw-r--r--@ 1 debangana  staff  83120 Jun 15 14:59 GSE111629Annotation1.csv\n",
      "-rw-r--r--@ 1 debangana  staff      0 Jun 15 14:57 student_data.txt\n"
     ]
    }
   ],
   "source": [
    "cp ~/Desktop/Thesis/Parkinson/annotation/GSE111629Annotation.csv ~/linux_basics/tutorials\n",
    "mv ~/linux_basics/tutorials/GSE111629Annotation.csv  ~/linux_basics/tutorials/GSE111629Annotation1.csv #renaming the file\n",
    "ls -la ~/linux_basics/tutorials/\n"
   ]
  },
  {
   "cell_type": "markdown",
   "metadata": {},
   "source": [
    "Now that we have three files under the tutorials directory, let us understand the fundamentals of permissions and access in linux"
   ]
  },
  {
   "cell_type": "code",
   "execution_count": 65,
   "metadata": {
    "vscode": {
     "languageId": "shellscript"
    }
   },
   "outputs": [
    {
     "name": "stdout",
     "output_type": "stream",
     "text": [
      "Password:\n",
      "sudo: a password is required\n"
     ]
    }
   ],
   "source": [
    "sudo useradd tutor #for macOS use the command sudo sysadminctl -addUser <username> -password <password>\n",
    "sudo passwd tutor"
   ]
  },
  {
   "cell_type": "code",
   "execution_count": 148,
   "metadata": {
    "vscode": {
     "languageId": "shellscript"
    }
   },
   "outputs": [
    {
     "name": "stdout",
     "output_type": "stream",
     "text": [
      "_accessoryupdater\n",
      "_amavisd\n",
      "_analyticsd\n",
      "_aonsensed\n",
      "_appinstalld\n",
      "uid=501(debangana) gid=20(staff) groups=20(staff),12(everyone),61(localaccounts),79(_appserverusr),80(admin),81(_appserveradm),98(_lpadmin),702(com.apple.sharepoint.group.2),33(_appstore),100(_lpoperator),204(_developer),250(_analyticsusers),395(com.apple.access_ftp),398(com.apple.access_screensharing),399(com.apple.access_ssh),400(com.apple.access_remote_ae),701(com.apple.sharepoint.group.1)\n",
      "uid=502(tutor) gid=20(staff) groups=20(staff),12(everyone),61(localaccounts),702(com.apple.sharepoint.group.2),100(_lpoperator),701(com.apple.sharepoint.group.1)\n"
     ]
    }
   ],
   "source": [
    "dscl . list /Users | head -n 5 #to list the users\n",
    "id   #displays the user ID, Group ID and Group memberships\n",
    "id tutor\n"
   ]
  },
  {
   "cell_type": "markdown",
   "metadata": {},
   "source": [
    "Let us locate the file `GSE111629Annotation1.csv` on the disk"
   ]
  },
  {
   "cell_type": "code",
   "execution_count": 101,
   "metadata": {
    "vscode": {
     "languageId": "shellscript"
    }
   },
   "outputs": [
    {
     "name": "stdout",
     "output_type": "stream",
     "text": [
      "/Users/debangana/linux_basics/tutorials/GSE111629Annotation1.csv\n",
      "/Users/debangana/linux_basics/tutorials/GSE111629Annotation1.csv\n",
      "/Users/debangana/linux_basics/tutorials/GSE111629Annotation1.csv\n"
     ]
    }
   ],
   "source": [
    "find ~/linux_basics -name 'GSE111629Annotation1.csv' #locates files by their names\n",
    "find ~/linux_basics -iname 'gse111629Annotation1.csv' #locates files and ignores the case\n",
    "find ~/linux_basics -iname '*gse111629Anno*' #can be useful if the full name is not known "
   ]
  },
  {
   "cell_type": "markdown",
   "metadata": {},
   "source": [
    "Now let us create a simple .sh file and understand the concepts of ownership and permissions "
   ]
  },
  {
   "cell_type": "code",
   "execution_count": 110,
   "metadata": {
    "vscode": {
     "languageId": "shellscript"
    }
   },
   "outputs": [
    {
     "name": "stdout",
     "output_type": "stream",
     "text": [
      "total 192\n",
      "-rw-r--r--@ 1 debangana  staff   5237 Jun 15 14:58 DMP.csv\n",
      "-rw-r--r--@ 1 debangana  staff  83120 Jun 15 14:59 GSE111629Annotation1.csv\n",
      "-rw-r--r--  1 debangana  staff    416 Jun 15 18:24 calculator.sh\n",
      "-rw-r--r--@ 1 debangana  staff      0 Jun 15 14:57 student_data.txt\n",
      "debangana\n"
     ]
    }
   ],
   "source": [
    "ls -l /Users/debangana/linux_basics/tutorials #fetch the details of the directory,list the owners and permissions of files\n",
    "whoami #to check the current user"
   ]
  },
  {
   "cell_type": "markdown",
   "metadata": {},
   "source": [
    "Now let us execute the script calculator.sh"
   ]
  },
  {
   "cell_type": "code",
   "execution_count": 112,
   "metadata": {
    "vscode": {
     "languageId": "shellscript"
    }
   },
   "outputs": [
    {
     "name": "stdout",
     "output_type": "stream",
     "text": [
      "bash: ./calculator.sh: Permission denied\n"
     ]
    },
    {
     "ename": "",
     "evalue": "126",
     "output_type": "error",
     "traceback": []
    }
   ],
   "source": [
    "cd /Users/debangana/linux_basics/tutorials\n",
    "./calculator.sh"
   ]
  },
  {
   "cell_type": "markdown",
   "metadata": {},
   "source": [
    "The current user is `debangana`, the file belongs to `debangana`, however `debangana` does not have the right to execute the bash script. Let us understand this in detail:\n",
    "\n",
    "What does the `'-rw-r--r--'` mean?\n",
    "`-`: means that it is a rregular file.\n",
    "`r`: View(read) the file’s contents or list a directory’s files.\n",
    "`w`: Write to a file or add/delete files in a directory.\n",
    "`x`: execute a file as a program/script \n",
    "\n",
    "The first set `rw-` means the owner (debangana) can read and write the file, but not execute it.\n",
    "The second set `r--` means the group (staff) can only read the file.\n",
    "The third set `r--` means others (everyone else) can only read the file.\n",
    "\n",
    "So, we have to change the file permission.\n"
   ]
  },
  {
   "cell_type": "code",
   "execution_count": 143,
   "metadata": {
    "vscode": {
     "languageId": "shellscript"
    }
   },
   "outputs": [
    {
     "name": "stdout",
     "output_type": "stream",
     "text": [
      "Addition: 2 + 3 = 5\n",
      "Subtraction: 2 - 3 = -1\n",
      "Multiplication: 2 * 3 = 6\n",
      "Division: 2/3 = 0.66\n",
      "total 192\n",
      "-rw-r--r--@ 1 debangana  staff   5237 Jun 15 14:58 DMP.csv\n",
      "-rw-r--r--@ 1 debangana  staff  83120 Jun 15 14:59 GSE111629Annotation1.csv\n",
      "-rwxrwxr-x@ 1 debangana  staff    147 Jun 15 18:37 calculator.sh\n",
      "-rw-r--r--@ 1 debangana  staff      0 Jun 15 14:57 student_data.txt\n",
      "total 192\n",
      "-rw-r--r--@ 1 debangana  staff   5237 Jun 15 14:58 DMP.csv\n",
      "-rw-r--r--@ 1 debangana  staff  83120 Jun 15 14:59 GSE111629Annotation1.csv\n",
      "-rwxrw-r--@ 1 debangana  staff    147 Jun 15 18:37 calculator.sh\n",
      "-rw-r--r--@ 1 debangana  staff      0 Jun 15 14:57 student_data.txt\n",
      "total 192\n",
      "-rw-r--r--@ 1 debangana  staff   5237 Jun 15 14:58 DMP.csv\n",
      "-rw-r--r--@ 1 debangana  staff  83120 Jun 15 14:59 GSE111629Annotation1.csv\n",
      "-rwxrwxr--@ 1 debangana  staff    147 Jun 15 18:37 calculator.sh\n",
      "-rw-r--r--@ 1 debangana  staff      0 Jun 15 14:57 student_data.txt\n"
     ]
    }
   ],
   "source": [
    "chmod +x ./calculator.sh\n",
    "./calculator.sh #file executed by user debangana\n",
    "\n",
    "chmod a+x calculator.sh #grants execution rights to all others \n",
    "ls -l #list the file with modified permisiions (permission of execution has been granted)\n",
    "\n",
    "#But then we realise that others should not be granted the right to execute the file\n",
    "\n",
    "chmod go-x calculator.sh #withdraw execution rights from others except the owner\n",
    "ls -l\n",
    "\n",
    "chmod u=rwx,g=rwx,o=r calculator.sh\n",
    "ls -l #right to write granted"
   ]
  },
  {
   "cell_type": "markdown",
   "metadata": {},
   "source": [
    "| Permission    | Value |\n",
    "| ------------- | ----- |\n",
    "| Read (`r`)    | 4     |\n",
    "| Write (`w`)   | 2     |\n",
    "| Execute (`x`) | 1     |\n"
   ]
  },
  {
   "cell_type": "markdown",
   "metadata": {},
   "source": [
    "| Entity | Value     | Permissions |\n",
    "| ------ | --------- | ----------- |\n",
    "| Owner  | 7 = 4+2+1 | `rwx`       |\n",
    "| Group  | 7 = 4+2+1 | `rwx`       |\n",
    "| Others | 1 =   1   | `--x`       |"
   ]
  },
  {
   "cell_type": "code",
   "execution_count": 145,
   "metadata": {
    "vscode": {
     "languageId": "shellscript"
    }
   },
   "outputs": [
    {
     "name": "stdout",
     "output_type": "stream",
     "text": [
      "total 192\n",
      "-rw-r--r--@ 1 debangana  staff   5237 Jun 15 14:58 DMP.csv\n",
      "-rw-r--r--@ 1 debangana  staff  83120 Jun 15 14:59 GSE111629Annotation1.csv\n",
      "-rwxrwxr--@ 1 debangana  staff    147 Jun 15 18:37 calculator.sh\n",
      "-rw-r--r--@ 1 debangana  staff      0 Jun 15 14:57 student_data.txt\n"
     ]
    }
   ],
   "source": [
    "chmod 774 calculator.sh\n",
    "ls -l "
   ]
  },
  {
   "cell_type": "code",
   "execution_count": 147,
   "metadata": {
    "vscode": {
     "languageId": "shellscript"
    }
   },
   "outputs": [
    {
     "name": "stdout",
     "output_type": "stream",
     "text": [
      "total 192\n",
      "-rw-r--r--@ 1 debangana  staff   5237 Jun 15 14:58 DMP.csv\n",
      "-rw-r--r--@ 1 debangana  staff  83120 Jun 15 14:59 GSE111629Annotation1.csv\n",
      "-rwxrwxrw-@ 1 debangana  staff    147 Jun 15 18:37 calculator.sh\n",
      "-rw-r--r--@ 1 debangana  staff      0 Jun 15 14:57 student_data.txt\n"
     ]
    }
   ],
   "source": [
    "chmod 776 calculator.sh\n",
    "ls -l"
   ]
  }
 ],
 "metadata": {
  "kernelspec": {
   "display_name": "Bash",
   "language": "bash",
   "name": "bash"
  },
  "language_info": {
   "codemirror_mode": "shell",
   "file_extension": ".sh",
   "mimetype": "text/x-sh",
   "name": "bash"
  }
 },
 "nbformat": 4,
 "nbformat_minor": 2
}
