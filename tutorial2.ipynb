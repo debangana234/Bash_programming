{
 "cells": [
  {
   "cell_type": "markdown",
   "metadata": {},
   "source": [
    "Be it in the realm of Bioinformatics or in the domain of Databases, the command line tool `awk` proves to be a great utility when processing and analysing large files. "
   ]
  },
  {
   "cell_type": "code",
   "execution_count": 1,
   "metadata": {
    "vscode": {
     "languageId": "shellscript"
    }
   },
   "outputs": [
    {
     "name": "stdout",
     "output_type": "stream",
     "text": [
      "/Users/debangana/Desktop/Bash_programming\n"
     ]
    }
   ],
   "source": [
    "pwd"
   ]
  },
  {
   "cell_type": "code",
   "execution_count": 2,
   "metadata": {
    "vscode": {
     "languageId": "shellscript"
    }
   },
   "outputs": [
    {
     "name": "stdout",
     "output_type": "stream",
     "text": [
      "DMP.csv\t\t\t\tcalculator.sh\n",
      "GSE111629Annotation1.csv\tstudent_data.txt\n"
     ]
    }
   ],
   "source": [
    "cd /Users/debangana/linux_basics/tutorials;ls #execute one bash command after another with a semicolon\n",
    " "
   ]
  },
  {
   "cell_type": "markdown",
   "metadata": {},
   "source": [
    "Let us try to perform some processing on the file `GSE111629Annotation1.csv`. Then we shall discuss some applications of the `awk` tool using the `GSE111629Annotation1.csv` file"
   ]
  },
  {
   "cell_type": "markdown",
   "metadata": {},
   "source": [
    "Display the number of rows in the file"
   ]
  },
  {
   "cell_type": "code",
   "execution_count": 70,
   "metadata": {
    "vscode": {
     "languageId": "shellscript"
    }
   },
   "outputs": [
    {
     "name": "stdout",
     "output_type": "stream",
     "text": [
      "     573\n"
     ]
    }
   ],
   "source": [
    "cat GSE111629Annotation1.csv | wc -l #displays number of records in the file icluding header"
   ]
  },
  {
   "cell_type": "code",
   "execution_count": 71,
   "metadata": {
    "vscode": {
     "languageId": "shellscript"
    }
   },
   "outputs": [
    {
     "name": "stdout",
     "output_type": "stream",
     "text": [
      "     572\n"
     ]
    }
   ],
   "source": [
    "tail -n +2 GSE111629Annotation1.csv | wc -l # another way to display the nuber of records in the file excluding the header"
   ]
  },
  {
   "cell_type": "markdown",
   "metadata": {},
   "source": [
    "Display the number of columns/fields using awk"
   ]
  },
  {
   "cell_type": "code",
   "execution_count": 73,
   "metadata": {
    "vscode": {
     "languageId": "shellscript"
    }
   },
   "outputs": [
    {
     "name": "stdout",
     "output_type": "stream",
     "text": [
      "11\n"
     ]
    }
   ],
   "source": [
    "head -1 GSE111629Annotation1.csv | awk -F',' '{print NF}'\n",
    "# The command selects the header, pipes it to awk. NF refers to Number of fields in the header and then we print the NF"
   ]
  },
  {
   "cell_type": "markdown",
   "metadata": {},
   "source": [
    "Display the fields and mark each of them with an index to aid in easy extraction/filtration"
   ]
  },
  {
   "cell_type": "code",
   "execution_count": 11,
   "metadata": {
    "vscode": {
     "languageId": "shellscript"
    }
   },
   "outputs": [
    {
     "name": "stdout",
     "output_type": "stream",
     "text": [
      "     1\t\"title\"\n",
      "     2\t\"geo_accession\"\n",
      "     3\t\"submission_date\"\n",
      "     4\t\"last_update_date\"\n",
      "     5\t\"age:ch1\"\n",
      "     6\t\"disease state:ch1\"\n",
      "     7\t\"ethnicity:ch1\"\n",
      "     8\t\"gender:ch1\"\n",
      "     9\t\"tissue:ch1\"\n",
      "    10\t\"Sentrix_ID\"\n",
      "    11\t\"Sentrix_Position\"\n"
     ]
    }
   ],
   "source": [
    "head -n 1 GSE111629Annotation1.csv | tr ',' '\\n' | nl \n",
    "# head -n 1: extracts the first line '-n' specifies the number of lines to be displayes.\n",
    "# tr ',' '\\n': replaces commas with newlines, listing one column per line. \n",
    "# nl adds line numbers (column indexes)\n",
    "\n",
    "\n"
   ]
  },
  {
   "cell_type": "code",
   "execution_count": 10,
   "metadata": {
    "vscode": {
     "languageId": "shellscript"
    }
   },
   "outputs": [
    {
     "name": "stdout",
     "output_type": "stream",
     "text": [
      "\"title\",\"Sentrix_ID\"\n",
      "\"3999979001_R01C01\",\"3999979001\"\n",
      "\"3999979001_R01C02\",\"3999979001\"\n",
      "\"3999979001_R02C01\",\"3999979001\"\n",
      "\"3999979001_R02C02\",\"3999979001\"\n",
      "\"3999979001_R03C01\",\"3999979001\"\n"
     ]
    }
   ],
   "source": [
    "# Displaying the column names with the indexes makes it easier to extract the columns with cut command\n",
    "# the '>' sign redirects the filtered columns to a new file \n",
    "cut -d',' -f1,10 GSE111629Annotation1.csv > GSE111629Annotation1Filtered.csv \n",
    "\n",
    "head -n 6 GSE111629Annotation1Filtered.csv # displays top 6 lines from the newly created file with the filtered columns"
   ]
  },
  {
   "cell_type": "markdown",
   "metadata": {},
   "source": [
    "Now let us perform the filtering task using the `awk` tool"
   ]
  },
  {
   "cell_type": "code",
   "execution_count": 15,
   "metadata": {
    "vscode": {
     "languageId": "shellscript"
    }
   },
   "outputs": [
    {
     "name": "stdout",
     "output_type": "stream",
     "text": [
      "\"title\" \"submission_date\" \"Sentrix_ID\"\n",
      "\"3999979001_R01C01\" \"Mar 09 2018\" \"3999979001\"\n",
      "\"3999979001_R01C02\" \"Mar 09 2018\" \"3999979001\"\n",
      "\"3999979001_R02C01\" \"Mar 09 2018\" \"3999979001\"\n",
      "\"3999979001_R02C02\" \"Mar 09 2018\" \"3999979001\"\n",
      "\"3999979001_R03C01\" \"Mar 09 2018\" \"3999979001\"\n"
     ]
    }
   ],
   "source": [
    "#Check the column indices from the output of the head command\n",
    "awk -F ',' '{print $1,$3,$10}' GSE111629Annotation1.csv > GSE111629Annotation1Filtered1.csv # filters the column with the specified indices from the file\n",
    "# -F specifies the field separator\n",
    "head -n 6 GSE111629Annotation1Filtered1.csv"
   ]
  },
  {
   "cell_type": "markdown",
   "metadata": {},
   "source": [
    "Let us discuss some concepts of the `awk` tool in detail. We often come across `$NF` with `awk`. Let us understand `$NF` in detail.\n",
    "Let us consider the file `GSE111629Annotation1.csv` to understand this in detail"
   ]
  },
  {
   "cell_type": "code",
   "execution_count": 31,
   "metadata": {
    "vscode": {
     "languageId": "shellscript"
    }
   },
   "outputs": [
    {
     "name": "stdout",
     "output_type": "stream",
     "text": [
      "\"Sentrix_Position\"\n",
      "\"R01C01\"\n",
      "\"R01C02\"\n"
     ]
    }
   ],
   "source": [
    "awk -F ',' '{ print $NF }' GSE111629Annotation1.csv | head -n 3  # $NF prints the value of the last field\n",
    "#In the above command we have used the pipe to display only the first three values of the otherwise long output"
   ]
  },
  {
   "cell_type": "code",
   "execution_count": 32,
   "metadata": {
    "vscode": {
     "languageId": "shellscript"
    }
   },
   "outputs": [
    {
     "name": "stdout",
     "output_type": "stream",
     "text": [
      "\"R01C01\"\n",
      "\"R01C02\"\n",
      "\"R02C01\"\n"
     ]
    }
   ],
   "source": [
    "awk -F ',' 'NR > 1 { print $NF }' GSE111629Annotation1.csv | head -n 3 # NR > 1 specifies that we want to exclude the header \"Sentrix_Position\""
   ]
  },
  {
   "cell_type": "markdown",
   "metadata": {},
   "source": [
    "Now let us print the last field exclduing the header along with line numbers"
   ]
  },
  {
   "cell_type": "code",
   "execution_count": 41,
   "metadata": {
    "vscode": {
     "languageId": "shellscript"
    }
   },
   "outputs": [
    {
     "name": "stdout",
     "output_type": "stream",
     "text": [
      "2:\"R01C01\"\n",
      "3:\"R01C02\"\n",
      "4:\"R02C01\"\n"
     ]
    }
   ],
   "source": [
    "awk -F ',' ' NR > 1 { print NR \":\" $NF }' GSE111629Annotation1.csv | head -n 3\n"
   ]
  },
  {
   "cell_type": "code",
   "execution_count": 43,
   "metadata": {
    "vscode": {
     "languageId": "shellscript"
    }
   },
   "outputs": [
    {
     "name": "stdout",
     "output_type": "stream",
     "text": [
      "1:\"Sentrix_Position\"\n",
      "2:\"R01C01\"\n",
      "3:\"R01C02\"\n"
     ]
    }
   ],
   "source": [
    "awk -F ',' '{ print NR \":\" $NF }' GSE111629Annotation1.csv | head -n 3 # header is printed when we don't specify NR > 1\n"
   ]
  },
  {
   "cell_type": "markdown",
   "metadata": {},
   "source": [
    "Now let us proceed to some advanced data processing using awk. Suppose we want to print the `Sentrix_ID` and `age` where `age > 50` from the file `GSE111629Annotation1.csv`"
   ]
  },
  {
   "cell_type": "code",
   "execution_count": 61,
   "metadata": {
    "vscode": {
     "languageId": "shellscript"
    }
   },
   "outputs": [
    {
     "name": "stdout",
     "output_type": "stream",
     "text": [
      "\"title\",\"geo_accession\",\"submission_date\",\"last_update_date\",\"age:ch1\",\"disease state:ch1\",\"ethnicity:ch1\",\"gender:ch1\",\"tissue:ch1\",\"Sentrix_ID\",\"Sentrix_Position\"\n",
      "\"3999979001_R01C01\",\"GSM3035401\",\"Mar 09 2018\",\"Mar 10 2018\",\"74\",\"Parkinson's disease (PD)\",\"Caucasian\",\"Female\",\"whole blood\",\"3999979001\",\"R01C01\"\n",
      "\"3999979001_R01C02\",\"GSM3035402\",\"Mar 09 2018\",\"Mar 10 2018\",\"73\",\"PD-free control\",\"Caucasian\",\"Female\",\"whole blood\",\"3999979001\",\"R01C02\"\n",
      "\"3999979001_R02C01\",\"GSM3035403\",\"Mar 09 2018\",\"Mar 10 2018\",\"62\",\"Parkinson's disease (PD)\",\"Caucasian\",\"Male\",\"whole blood\",\"3999979001\",\"R02C01\"\n",
      "       0\n"
     ]
    }
   ],
   "source": [
    "head -n 4 GSE111629Annotation1.csv # We see that the 5th column is age:ch1\n",
    "\n",
    "#Now let us print the number of records for which age > 50\n",
    "awk -F',' 'NR > 1 && ($5 > 50) {print $10, $5 }' GSE111629Annotation1.csv | wc -l \n"
   ]
  },
  {
   "cell_type": "markdown",
   "metadata": {},
   "source": [
    "We see that the number of records where age > 50 is 0, however, this is not the case. To see the age of every record, let us use the `cut` command that we already used above"
   ]
  },
  {
   "cell_type": "code",
   "execution_count": 62,
   "metadata": {
    "vscode": {
     "languageId": "shellscript"
    }
   },
   "outputs": [
    {
     "name": "stdout",
     "output_type": "stream",
     "text": [
      "\"age:ch1\"\n",
      "\"74\"\n",
      "\"73\"\n",
      "\"62\"\n",
      "\"72\"\n",
      "\"72\"\n",
      "\"69\"\n",
      "\"55\"\n",
      "\"79\"\n",
      "\"81\"\n"
     ]
    }
   ],
   "source": [
    "cut -d',' -f5 GSE111629Annotation1.csv | head -n 10"
   ]
  },
  {
   "cell_type": "markdown",
   "metadata": {},
   "source": [
    "The problem of getting 0 records using `awk` arises because of the presence of quotes around the numbers, hence awk sees these entries as strings and is not able to perform the numeric comparison. Here is a solution for the above problem using `awk` and `gsub`"
   ]
  },
  {
   "cell_type": "code",
   "execution_count": 68,
   "metadata": {
    "vscode": {
     "languageId": "shellscript"
    }
   },
   "outputs": [
    {
     "name": "stdout",
     "output_type": "stream",
     "text": [
      "     518\n"
     ]
    }
   ],
   "source": [
    "awk -F',' 'NR > 1 { gsub(/\"/, \"\", $5); if ($5 > 50) print $10, $5 }' GSE111629Annotation1.csv | wc -l #displays number of records which have age > 50"
   ]
  },
  {
   "cell_type": "code",
   "execution_count": 69,
   "metadata": {
    "vscode": {
     "languageId": "shellscript"
    }
   },
   "outputs": [
    {
     "name": "stdout",
     "output_type": "stream",
     "text": [
      "      49\n"
     ]
    }
   ],
   "source": [
    "awk -F',' 'NR > 1 { gsub(/\"/, \"\", $5); if ($5 < 50) print $10, $5 }' GSE111629Annotation1.csv | wc -l #displays number of records where age < 50"
   ]
  },
  {
   "cell_type": "markdown",
   "metadata": {},
   "source": [
    "The gsub function used in the above command is a string manipulation tool that performs global substitution. It replaces all occurrences of a specified pattern within a field. In our example, `gsub(/\"/, \"\", $5)` removes all double quotes from the 5th column ($5, which represents age). This is important because quoted numbers are treated as strings, and removing the quotes ensures proper numerical comparison.\n",
    "\n",
    "We will explore gsub and other powerful regular expression features in detail in upcoming tutorials."
   ]
  },
  {
   "cell_type": "code",
   "execution_count": null,
   "metadata": {
    "vscode": {
     "languageId": "shellscript"
    }
   },
   "outputs": [],
   "source": []
  }
 ],
 "metadata": {
  "kernelspec": {
   "display_name": "Bash",
   "language": "bash",
   "name": "bash"
  },
  "language_info": {
   "codemirror_mode": "shell",
   "file_extension": ".sh",
   "mimetype": "text/x-sh",
   "name": "bash"
  }
 },
 "nbformat": 4,
 "nbformat_minor": 2
}
