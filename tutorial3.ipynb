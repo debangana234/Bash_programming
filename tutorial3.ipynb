{
 "cells": [
  {
   "cell_type": "markdown",
   "metadata": {},
   "source": [
    "The grep (global regular expression print) command that helps us search for specific text within files. We can apply `grep` to find words, phrases or patterns in one or multiple files. `grep` makes it easier to locate and manage information across the file system in Databases. It can be used to locate specific error messages in log files. In bioinformatics it is useful in Identifying sequences with specific motifs or patterns in FASTA/FASTQ files.\n",
    "It also proves to be useful in retrieving data/records related to specific samples or conditions in large metadata or from tables containing results.\n",
    "\n",
    "Let us learn the usage of `grep` using the files in our `tutorials` folder"
   ]
  },
  {
   "cell_type": "code",
   "execution_count": 2,
   "metadata": {
    "vscode": {
     "languageId": "shellscript"
    }
   },
   "outputs": [
    {
     "name": "stdout",
     "output_type": "stream",
     "text": [
      "1\t\t\t\t\tGSE111629Annotation1Filtered.csv\n",
      "DMP.csv\t\t\t\t\tGSE111629Annotation1Filtered1.csv\n",
      "DMP1.csv\t\t\t\tcalculator.sh\n",
      "GSE111629Annotation1.csv\t\tstudent_data.txt\n"
     ]
    }
   ],
   "source": [
    "cd /Users/debangana/linux_basics/tutorials;ls #to execute one bash command after another, use a semicolon\n"
   ]
  },
  {
   "cell_type": "markdown",
   "metadata": {},
   "source": [
    "Suppose we want to find out if a particular cpg probe is present in the file DMP.csv and DMP1.csv \n",
    "First let us copy a file to the directory and rename the file to DMP1.csv."
   ]
  },
  {
   "cell_type": "code",
   "execution_count": 3,
   "metadata": {
    "vscode": {
     "languageId": "shellscript"
    }
   },
   "outputs": [
    {
     "name": "stdout",
     "output_type": "stream",
     "text": [
      "total 296\n",
      "-rw-r--r--@ 1 debangana  staff      0 Jun 21 13:04 1\n",
      "-rw-r--r--@ 1 debangana  staff   5237 Jun 15 14:58 DMP.csv\n",
      "-rw-r--r--@ 1 debangana  staff   2445 Jun 21 22:50 DMP1.csv\n",
      "-rw-r--r--@ 1 debangana  staff  83120 Jun 15 14:59 GSE111629Annotation1.csv\n",
      "-rw-r--r--@ 1 debangana  staff  18896 Jun 19 15:03 GSE111629Annotation1Filtered.csv\n",
      "-rw-r--r--@ 1 debangana  staff  26922 Jun 19 20:44 GSE111629Annotation1Filtered1.csv\n",
      "-rwxrwxrw-@ 1 debangana  staff    147 Jun 15 18:37 calculator.sh\n",
      "-rw-r--r--@ 1 debangana  staff      0 Jun 15 14:57 student_data.txt\n"
     ]
    }
   ],
   "source": [
    "cp /Users/debangana/Desktop/Thesis/Parkinson/annotation/DesplatesCS.csv .\n",
    "mv DesplatesCS.csv DMP1.csv\n",
    "ls -l"
   ]
  },
  {
   "cell_type": "markdown",
   "metadata": {},
   "source": [
    "Let us grep for the first `CPG_ID` `cg25939728` in the the file DMP1.csv"
   ]
  },
  {
   "cell_type": "code",
   "execution_count": 55,
   "metadata": {
    "vscode": {
     "languageId": "shellscript"
    }
   },
   "outputs": [
    {
     "name": "stdout",
     "output_type": "stream",
     "text": [
      "\"Name\",\"Chr\",\"Position\",\"Relation to TSS\",\"Gene ID\",\"logFC\",\"P.Value\",\"FDR\"\n",
      "\"cg06889422\",\"chr22\",\"24627294\",\"Body\",\"N/A\",\"−0.28384\",\"1.28E-08\",\"0.003907\"\n",
      "\"cg16133681\",\"chr12\",\"25801621\",\"TSS200\",\"IFLTD1\",\"−0.38619\",\"1.54E-08\",\"0.003907\"\n",
      "\"cg26524067\",\"chr12\",\"133003928\",\"Open Sea\",\"N/A\",\"−0.49670\",\"1.55E-08\",\"0.003907\"\n",
      "\"cg09994891\",\"chr10\",\"2173024\",\"Open Sea\",\"N/A\",\"0.31875\",\"1.31E-07\",\"0.024816\"\n",
      "\"\",\"CpG_ID\",\"late_cont_post_conv\",\"Change_Controls\",\"Change_Converters\",\"adj.P.Val\",\"Gene\",\"Gene_group\",\"Rank\"\n",
      "\"1\",\"cg25939728\",0.0628479544242751,-0.417093190689641,-0.380458701660897,0.0343760690519294,\"KCNS3\",\"Body\",69\n",
      "\"2\",\"cg25614726\",0.135924174806047,-0.719481141920014,-0.681351758471092,0.0142492107228919,\"PXDNL\",\"Body\",10\n",
      "\"3\",\"cg02350320\",-0.122782503874819,-0.441199672480944,-0.509810621730303,0.0152057103004108,\"\",\"\",6\n",
      "\"4\",\"cg03263197\",-0.203956429722215,-0.570542118526064,-0.658132792699776,0.00155475053089534,\"\",\"\",22\n"
     ]
    }
   ],
   "source": [
    "head -n 5 DMP1.csv\n",
    "head -n 5 DMP.csv\n"
   ]
  },
  {
   "cell_type": "markdown",
   "metadata": {},
   "source": [
    "Suppose we want to display the number of cpg sites that are in chromosome 12 in DMP1.csv"
   ]
  },
  {
   "cell_type": "code",
   "execution_count": 18,
   "metadata": {
    "vscode": {
     "languageId": "shellscript"
    }
   },
   "outputs": [
    {
     "name": "stdout",
     "output_type": "stream",
     "text": [
      "       7\n"
     ]
    }
   ],
   "source": [
    "grep chr12 DMP1.csv | wc -l"
   ]
  },
  {
   "cell_type": "code",
   "execution_count": 21,
   "metadata": {
    "vscode": {
     "languageId": "shellscript"
    }
   },
   "outputs": [
    {
     "name": "stdout",
     "output_type": "stream",
     "text": [
      "7\n"
     ]
    }
   ],
   "source": [
    "grep -c chr12 DMP1.csv # alternative command using -c parameter to fetch the number of occurences"
   ]
  },
  {
   "cell_type": "markdown",
   "metadata": {},
   "source": [
    "Let us display the corresponding cpg_ids associated with chromsome 12"
   ]
  },
  {
   "cell_type": "code",
   "execution_count": 20,
   "metadata": {
    "vscode": {
     "languageId": "shellscript"
    }
   },
   "outputs": [
    {
     "name": "stdout",
     "output_type": "stream",
     "text": [
      "\"cg16133681\"\n",
      "\"cg26524067\"\n",
      "\"cg23979954\"\n",
      "\"cg04741728\"\n",
      "\"cg03681383\"\n",
      "\"cg13211181\"\n",
      "\"cg01181415\"\n"
     ]
    }
   ],
   "source": [
    "grep chr12 DMP1.csv | awk -F ',' '{print $1}' # searches from chr 12 and then displays all the cpg_ids associated with the chromosome"
   ]
  },
  {
   "cell_type": "markdown",
   "metadata": {},
   "source": [
    "Now let us search in multiple files. Suppose we find out the occurences of `chr12` in all DMP files"
   ]
  },
  {
   "cell_type": "code",
   "execution_count": 37,
   "metadata": {
    "vscode": {
     "languageId": "shellscript"
    }
   },
   "outputs": [
    {
     "name": "stdout",
     "output_type": "stream",
     "text": [
      "DMP1.csv:\"cg16133681\",\"chr12\",\"25801621\",\"TSS200\",\"IFLTD1\",\"−0.38619\",\"1.54E-08\",\"0.003907\"\n",
      "DMP1.csv:\"cg26524067\",\"chr12\",\"133003928\",\"Open Sea\",\"N/A\",\"−0.49670\",\"1.55E-08\",\"0.003907\"\n",
      "DMP1.csv:\"cg23979954\",\"chr12\",\"25801601\",\"TSS200\",\"IFLTD1\",\"−0.30554\",\"6.65E-07\",\"0.062331\"\n",
      "DMP1.csv:\"cg04741728\",\"chr12\",\"133003907\",\"Open Sea\",\"N/A\",\"−0.59444\",\"1.17E-06\",\"0.076787\"\n",
      "DMP1.csv:\"cg03681383\",\"chr12\",\"25801522\",\"TSS200\",\"IFLTD1\",\"−0.30440\",\"1.56E-06\",\"0.090741\"\n",
      "DMP1.csv:\"cg13211181\",\"chr12\",\"25801455\",\"1stExon\",\"IFLTD1\",\"−0.26773\",\"2.52E-06\",\"0.108120\"\n",
      "DMP1.csv:\"cg01181415\",\"chr12\",\"16757954\",\"5ʹUTR\",\"LMO3\",\"−0.13991\",\"3.68E-06\",\"0.112632\"\n"
     ]
    }
   ],
   "source": [
    "grep 'chr12' DMP.csv DMP1.csv\n"
   ]
  },
  {
   "cell_type": "markdown",
   "metadata": {},
   "source": [
    "Suppose we find out the number of occurences of `chr12` in all DMP files"
   ]
  },
  {
   "cell_type": "code",
   "execution_count": 34,
   "metadata": {
    "vscode": {
     "languageId": "shellscript"
    }
   },
   "outputs": [
    {
     "name": "stdout",
     "output_type": "stream",
     "text": [
      "DMP.csv: 0 occurrence\n",
      "DMP1.csv: 7 occurrence\n"
     ]
    }
   ],
   "source": [
    "#The logic below is useful when there are multiple files that we want to search\n",
    "for file in DMP*.csv; do \n",
    "  count=$(grep -c \"chr12\" \"$file\")\n",
    "  echo \"$file: $count occurrence\"  #The echo command is used to display the desired message \n",
    "done\n"
   ]
  },
  {
   "cell_type": "markdown",
   "metadata": {},
   "source": [
    "We can `grep` all the cpg_ids that do not associate with chromosome 12"
   ]
  },
  {
   "cell_type": "code",
   "execution_count": 40,
   "metadata": {
    "vscode": {
     "languageId": "shellscript"
    }
   },
   "outputs": [
    {
     "name": "stdout",
     "output_type": "stream",
     "text": [
      "      23\n",
      "\"Name\"\n",
      "\"cg06889422\"\n",
      "\"cg09994891\"\n",
      "\"cg11408952\"\n"
     ]
    }
   ],
   "source": [
    "grep -v chr12 DMP1.csv | wc -l   #counts number of cpg_ids that do not assocuate with chromosome 12\n",
    "grep -v chr12 DMP1.csv | awk -F ',' '{print $1}' | head -n 4 #prints the cpg ids that do not associate with chr 12"
   ]
  },
  {
   "cell_type": "markdown",
   "metadata": {},
   "source": [
    "Alternatively, the output of the `grep -v` command from the above example  can also be restricted to the desired number of lines using the `-m ` parameter"
   ]
  },
  {
   "cell_type": "code",
   "execution_count": 38,
   "metadata": {
    "vscode": {
     "languageId": "shellscript"
    }
   },
   "outputs": [
    {
     "name": "stdout",
     "output_type": "stream",
     "text": [
      "\"Name\",\"Chr\",\"Position\",\"Relation to TSS\",\"Gene ID\",\"logFC\",\"P.Value\",\"FDR\"\n",
      "\"cg06889422\",\"chr22\",\"24627294\",\"Body\",\"N/A\",\"−0.28384\",\"1.28E-08\",\"0.003907\"\n",
      "\"cg09994891\",\"chr10\",\"2173024\",\"Open Sea\",\"N/A\",\"0.31875\",\"1.31E-07\",\"0.024816\"\n"
     ]
    }
   ],
   "source": [
    "grep -vm3 chr12 DMP1.csv "
   ]
  },
  {
   "cell_type": "markdown",
   "metadata": {},
   "source": [
    "`grep` command can also be used to search for patterns of texts recursively within directories"
   ]
  },
  {
   "cell_type": "code",
   "execution_count": 57,
   "metadata": {
    "vscode": {
     "languageId": "shellscript"
    }
   },
   "outputs": [
    {
     "name": "stdout",
     "output_type": "stream",
     "text": [
      "/Users/debangana/linux_basics\n"
     ]
    }
   ],
   "source": [
    "cd ..\n",
    "pwd"
   ]
  },
  {
   "cell_type": "markdown",
   "metadata": {},
   "source": [
    "Sometimes, a column can be named in different ways in different files, however, they provide information in a similar context. The `grep -i` command would \n",
    "be useful to search for the name and location of the columns in such scenarios as it ignores the case of the string being searched for. The `grep -R` command searches all files in the directory to search for the specified pattern"
   ]
  },
  {
   "cell_type": "code",
   "execution_count": 63,
   "metadata": {
    "vscode": {
     "languageId": "shellscript"
    }
   },
   "outputs": [
    {
     "name": "stdout",
     "output_type": "stream",
     "text": [
      "tutorials/DMP.csv:\"\",\"CpG_ID\",\"late_cont_post_conv\",\"Change_Controls\",\"Change_Converters\",\"adj.P.Val\",\"Gene\",\"Gene_group\",\"Rank\"\n",
      "tutorials/DMP1.csv:\"Name\",\"Chr\",\"Position\",\"Relation to TSS\",\"Gene ID\",\"logFC\",\"P.Value\",\"FDR\"\n"
     ]
    }
   ],
   "source": [
    "grep -Ri \"p.val\" tutorials \n"
   ]
  },
  {
   "cell_type": "markdown",
   "metadata": {},
   "source": [
    "We can also search for file names that match a specific pattern"
   ]
  },
  {
   "cell_type": "code",
   "execution_count": 87,
   "metadata": {
    "vscode": {
     "languageId": "shellscript"
    }
   },
   "outputs": [
    {
     "name": "stdout",
     "output_type": "stream",
     "text": [
      "bash: cd: debangana/linux_basics: No such file or directory\n",
      "/Users/debangana/linux_basics\n",
      "tutorials/DMP.csv\n",
      "tutorials/DMP1.csv\n"
     ]
    }
   ],
   "source": [
    "cd debangana/linux_basics\n",
    "pwd\n",
    "grep -Ril \"p.val\" tutorials # using the -l parameter we are able to display only the file names and not the matching lines\n"
   ]
  },
  {
   "cell_type": "markdown",
   "metadata": {},
   "source": [
    "Suppose we want to locate the exact occurence of a string pattern, say \"p.val\" in the file, then `grep -n` command is useful as it displays the line number"
   ]
  },
  {
   "cell_type": "code",
   "execution_count": 89,
   "metadata": {
    "vscode": {
     "languageId": "shellscript"
    }
   },
   "outputs": [
    {
     "name": "stdout",
     "output_type": "stream",
     "text": [
      "tutorials/DMP.csv:1:\"\",\"CpG_ID\",\"late_cont_post_conv\",\"Change_Controls\",\"Change_Converters\",\"adj.P.Val\",\"Gene\",\"Gene_group\",\"Rank\"\n",
      "tutorials/DMP1.csv:1:\"Name\",\"Chr\",\"Position\",\"Relation to TSS\",\"Gene ID\",\"logFC\",\"P.Value\",\"FDR\"\n"
     ]
    }
   ],
   "source": [
    "grep -Rin \"p.val\" tutorials #combining the parameters R, i and n, to search recursively inside tutorials, perform case insensitive search and display the line numbers\n"
   ]
  },
  {
   "cell_type": "code",
   "execution_count": 100,
   "metadata": {
    "vscode": {
     "languageId": "shellscript"
    }
   },
   "outputs": [
    {
     "name": "stdout",
     "output_type": "stream",
     "text": [
      "\"\",\"CpG_ID\",\"late_cont_post_conv\",\"Change_Controls\",\"Change_Converters\",\"adj.P.Val\",\"Gene\",\"Gene_group\",\"Rank\"\n",
      "\"1\",\"cg25939728\",0.0628479544242751,-0.417093190689641,-0.380458701660897,0.0343760690519294,\"KCNS3\",\"Body\",69\n",
      "\"2\",\"cg25614726\",0.135924174806047,-0.719481141920014,-0.681351758471092,0.0142492107228919,\"PXDNL\",\"Body\",10\n"
     ]
    }
   ],
   "source": [
    "grep -A 2 \"P.Val\" DMP.csv #prints matched line and 2 lines after the matched line\n"
   ]
  },
  {
   "cell_type": "code",
   "execution_count": 101,
   "metadata": {
    "vscode": {
     "languageId": "shellscript"
    }
   },
   "outputs": [
    {
     "name": "stdout",
     "output_type": "stream",
     "text": [
      "\"\",\"CpG_ID\",\"late_cont_post_conv\",\"Change_Controls\",\"Change_Converters\",\"adj.P.Val\",\"Gene\",\"Gene_group\",\"Rank\"\n"
     ]
    }
   ],
   "source": [
    "grep -B 2 \"P.Val\" DMP.csv #prints matched line and 2 lines before the matched line\n",
    "\n"
   ]
  },
  {
   "cell_type": "code",
   "execution_count": 102,
   "metadata": {
    "vscode": {
     "languageId": "shellscript"
    }
   },
   "outputs": [
    {
     "name": "stdout",
     "output_type": "stream",
     "text": [
      "\"\",\"CpG_ID\",\"late_cont_post_conv\",\"Change_Controls\",\"Change_Converters\",\"adj.P.Val\",\"Gene\",\"Gene_group\",\"Rank\"\n",
      "\"1\",\"cg25939728\",0.0628479544242751,-0.417093190689641,-0.380458701660897,0.0343760690519294,\"KCNS3\",\"Body\",69\n",
      "\"2\",\"cg25614726\",0.135924174806047,-0.719481141920014,-0.681351758471092,0.0142492107228919,\"PXDNL\",\"Body\",10\n"
     ]
    }
   ],
   "source": [
    "grep -C 2 \"P.Val\" DMP.csv #prints 2 lines before and after the matched line"
   ]
  }
 ],
 "metadata": {
  "kernelspec": {
   "display_name": "Bash",
   "language": "bash",
   "name": "bash"
  },
  "language_info": {
   "codemirror_mode": "shell",
   "file_extension": ".sh",
   "mimetype": "text/x-sh",
   "name": "bash"
  }
 },
 "nbformat": 4,
 "nbformat_minor": 2
}
